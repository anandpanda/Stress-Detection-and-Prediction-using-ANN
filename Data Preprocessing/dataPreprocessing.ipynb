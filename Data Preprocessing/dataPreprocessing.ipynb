{
 "cells": [
  {
   "cell_type": "markdown",
   "metadata": {},
   "source": [
    "# Initialization"
   ]
  },
  {
   "cell_type": "code",
   "execution_count": 2,
   "metadata": {},
   "outputs": [],
   "source": [
    "import pandas as pd\n",
    "import seaborn as sns\n",
    "import matplotlib.pyplot as plt\n",
    "from sklearn.preprocessing import MinMaxScaler, StandardScaler\n",
    "\n",
    "# Load the dataset\n",
    "data_path = '../Dataset/Human Stress Dataset.csv'\n",
    "dataset = pd.read_csv(data_path)\n",
    "df = pd.DataFrame(dataset)"
   ]
  },
  {
   "cell_type": "markdown",
   "metadata": {},
   "source": [
    "# Handling Outliers"
   ]
  },
  {
   "cell_type": "code",
   "execution_count": 5,
   "metadata": {},
   "outputs": [],
   "source": [
    "# Define a function to remove outliers based on the IQR method\n",
    "def remove_outliers(df, column):\n",
    "    Q1 = df[column].quantile(0.25)\n",
    "    Q3 = df[column].quantile(0.75)\n",
    "    IQR = Q3 - Q1\n",
    "    # Define the acceptable range\n",
    "    lower_bound = Q1 - 1.5 * IQR\n",
    "    upper_bound = Q3 + 1.5 * IQR\n",
    "    # Clip the outliers\n",
    "    df[column] = df[column].clip(lower_bound, upper_bound)\n",
    "\n",
    "# Apply this function to all relevant columns\n",
    "for col in df.columns[:-1]:  # Exclude 'Stress Levels'\n",
    "    remove_outliers(df, col)\n",
    "\n",
    "# SAve the cleaned dataset\n",
    "df.to_csv('../Dataset/Cleaned Human Stress Dataset.csv', index=False)"
   ]
  },
  {
   "cell_type": "markdown",
   "metadata": {},
   "source": [
    "**What it does:**\n",
    "\n",
    "It limits (or \"clips\") the values in df[column] so that any value below lower_bound is set to lower_bound, and any value above upper_bound is set to upper_bound.\\\n",
    "This keeps all values within the specified range, replacing extreme outliers with the closest boundary value instead of removing them."
   ]
  },
  {
   "cell_type": "markdown",
   "metadata": {},
   "source": [
    "# Standardize Features"
   ]
  },
  {
   "cell_type": "code",
   "execution_count": null,
   "metadata": {},
   "outputs": [
    {
     "name": "stdout",
     "output_type": "stream",
     "text": [
      "   Snoring Rate  Respiratory Rate  Body Temperature  Limb Movement  \\\n",
      "0      0.887273          0.691429          0.488571       0.840000   \n",
      "1      0.848000          0.650286          0.468000       0.792000   \n",
      "2      0.272727          0.285714          0.785714       0.400000   \n",
      "3      0.741091          0.538286          0.412000       0.661333   \n",
      "4      0.056727          0.089143          0.919429       0.166400   \n",
      "\n",
      "   Blood Oxygen  Eye Movement  Sleep Hours  Heart Rate  Stress Levels  \n",
      "0      0.522667      0.880000     0.204444    0.691429              1  \n",
      "1      0.503467      0.864000     0.172444    0.650286              1  \n",
      "2      0.866667      0.555556     0.777778    0.285714              0  \n",
      "3      0.451200      0.820444     0.085333    0.538286              1  \n",
      "4      0.949867      0.277333     0.916444    0.089143              0  \n"
     ]
    }
   ],
   "source": [
    "# Using StandardScaler\n",
    "scaler = StandardScaler()\n",
    "scaled_features = scaler.fit_transform(df.drop(\"Stress Levels\", axis=1))\n",
    "\n",
    "# Convert back to a DataFrame and add the target column\n",
    "df_scaled = pd.DataFrame(scaled_features, columns=df.columns[:-1])\n",
    "df_scaled[\"Stress Levels\"] = df[\"Stress Levels\"].values\n",
    "\n",
    "print(df_scaled.head())"
   ]
  },
  {
   "cell_type": "markdown",
   "metadata": {},
   "source": [
    "This standardizes features to have a mean of 0 and a standard deviation of 1."
   ]
  }
 ],
 "metadata": {
  "kernelspec": {
   "display_name": "venv",
   "language": "python",
   "name": "python3"
  },
  "language_info": {
   "codemirror_mode": {
    "name": "ipython",
    "version": 3
   },
   "file_extension": ".py",
   "mimetype": "text/x-python",
   "name": "python",
   "nbconvert_exporter": "python",
   "pygments_lexer": "ipython3",
   "version": "3.11.9"
  }
 },
 "nbformat": 4,
 "nbformat_minor": 2
}
